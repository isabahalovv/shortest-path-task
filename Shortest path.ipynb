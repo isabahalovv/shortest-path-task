{
 "cells": [
  {
   "cell_type": "code",
   "execution_count": 1,
   "id": "b08a4b27",
   "metadata": {},
   "outputs": [],
   "source": [
    "import networkx  as nx\n",
    "from matplotlib import pyplot as plt\n",
    "import numpy as np"
   ]
  },
  {
   "cell_type": "markdown",
   "id": "bf322694",
   "metadata": {},
   "source": [
    "# 1"
   ]
  },
  {
   "cell_type": "markdown",
   "id": "9e62fcac",
   "metadata": {},
   "source": [
    "## <><><><><><><><><><><><><><><><><><><><><><><><>"
   ]
  },
  {
   "cell_type": "code",
   "execution_count": 2,
   "id": "7f6f9c49",
   "metadata": {},
   "outputs": [],
   "source": [
    "arr = np.array([[6,4,2,8,9],\n",
    "                [3,6,3,3,2],\n",
    "                [7,0,6,1,7],\n",
    "                [8,2,4,1,6],\n",
    "                [0,0,0,4,3]])"
   ]
  },
  {
   "cell_type": "code",
   "execution_count": 3,
   "id": "8161782b",
   "metadata": {},
   "outputs": [],
   "source": [
    "def shortest_path(matrix, source, target):\n",
    "    \n",
    "    original_matrix = matrix\n",
    "    matrix = nx.from_numpy_matrix(matrix)\n",
    "    G = nx.grid_2d_graph(matrix, len(matrix))\n",
    "    \n",
    "    all_shortest_paths = list(nx.all_shortest_paths(G, source=source, target=target))\n",
    "    \n",
    "    sum_ = 0\n",
    "    all_sums = []\n",
    "\n",
    "    for path in all_shortest_paths:\n",
    "        sum_ = 0\n",
    "    \n",
    "        for a in path:\n",
    "            x = a[0]\n",
    "            y = a[1]\n",
    "        \n",
    "            sum_ += original_matrix[x,y]\n",
    "        \n",
    "        all_sums.append(sum_)\n",
    "        \n",
    "    return all_shortest_paths[all_sums.index(min(all_sums))]"
   ]
  },
  {
   "cell_type": "code",
   "execution_count": 4,
   "id": "a4321dd4",
   "metadata": {
    "scrolled": false
   },
   "outputs": [
    {
     "data": {
      "text/plain": [
       "[(1, 3), (2, 3), (3, 3), (4, 3), (4, 2)]"
      ]
     },
     "execution_count": 4,
     "metadata": {},
     "output_type": "execute_result"
    }
   ],
   "source": [
    "shortest_path(arr, (1,3), (4,2))"
   ]
  },
  {
   "cell_type": "markdown",
   "id": "5ae68e72",
   "metadata": {},
   "source": [
    "## <><><><><><><><><><><><><><><><><><><><><><><><><><><><><><><><><><><><>"
   ]
  },
  {
   "cell_type": "markdown",
   "id": "fb07afab",
   "metadata": {},
   "source": [
    "# 2"
   ]
  },
  {
   "cell_type": "markdown",
   "id": "f51c7c56",
   "metadata": {},
   "source": [
    "## <><><><><><><><><><><><><><><><><><><><><><><><><><><><><><><><><><><><>"
   ]
  },
  {
   "cell_type": "code",
   "execution_count": 5,
   "id": "2332bbe4",
   "metadata": {},
   "outputs": [],
   "source": [
    "arr = np.array([[6,4,2,8,9],\n",
    "                [3,6,3,3,2],\n",
    "                [7,0,6,1,7],\n",
    "                [8,2,4,1,6],\n",
    "                [0,0,0,4,3]])"
   ]
  },
  {
   "cell_type": "code",
   "execution_count": 6,
   "id": "2003d29c",
   "metadata": {},
   "outputs": [],
   "source": [
    "def meeting(matrix, start, meet, finish):\n",
    "    path1 = shortest_path(matrix, start, meet)\n",
    "    path2 = shortest_path(matrix, meet, finish)\n",
    "    \n",
    "    path = path1 + path2\n",
    "    \n",
    "    print(path)"
   ]
  },
  {
   "cell_type": "code",
   "execution_count": 7,
   "id": "61c5ceb8",
   "metadata": {
    "scrolled": true
   },
   "outputs": [
    {
     "name": "stdout",
     "output_type": "stream",
     "text": [
      "[(2, 3), (3, 3), (3, 2), (3, 1), (3, 1), (4, 1), (4, 2)]\n"
     ]
    }
   ],
   "source": [
    "meeting(arr, (2,3), (3,1) ,(4,2))"
   ]
  },
  {
   "cell_type": "markdown",
   "id": "538c34dc",
   "metadata": {},
   "source": [
    "## <><><><><><><><><><><><><><><><><><><><><><><><><><><><><><><><><><><><>"
   ]
  },
  {
   "cell_type": "markdown",
   "id": "cacc4ab9",
   "metadata": {},
   "source": [
    "# 3"
   ]
  },
  {
   "cell_type": "markdown",
   "id": "80ba4649",
   "metadata": {},
   "source": [
    "## <><><><><><><><><><><><><><><><><><><><><><><><><><><><><><><><><><><><>"
   ]
  },
  {
   "cell_type": "code",
   "execution_count": 8,
   "id": "d5f7c370",
   "metadata": {},
   "outputs": [],
   "source": [
    "arr = np.array([[6,4,2,8,9],\n",
    "                [3,6,3,3,2],\n",
    "                [7,0,6,1,7],\n",
    "                [8,2,4,1,6],\n",
    "                [0,0,0,4,3]])"
   ]
  },
  {
   "cell_type": "code",
   "execution_count": 9,
   "id": "614d0f8a",
   "metadata": {},
   "outputs": [],
   "source": [
    "def calc_fee(matrix, start, meet, finish):\n",
    "    path1 = shortest_path(matrix, start, meet)\n",
    "    path2 = shortest_path(matrix, meet, finish)\n",
    "    \n",
    "    real_path = path1 + path2\n",
    "    path = list(set(list(path1 + path2)[1:-1]))\n",
    "    sum_ = 0\n",
    "    \n",
    "    fee = (len(real_path)-2)*0.5\n",
    "    \n",
    "    for step in path:\n",
    "        x = step[0]\n",
    "        y = step[1]\n",
    "        \n",
    "        sum_ += matrix[x,y]\n",
    "    \n",
    "    \n",
    "    fee += (sum_ * 0.2)\n",
    "    \n",
    "    print(real_path)    \n",
    "    print(f'\\nNumber of cars : {sum_}')\n",
    "    return f'Total fee : {fee}'"
   ]
  },
  {
   "cell_type": "code",
   "execution_count": 10,
   "id": "dee6b6ba",
   "metadata": {
    "scrolled": false
   },
   "outputs": [
    {
     "name": "stdout",
     "output_type": "stream",
     "text": [
      "[(0, 0), (0, 1), (0, 2), (1, 2), (1, 3), (1, 3), (2, 3), (3, 3), (4, 3), (4, 2)]\n",
      "\n",
      "Number of cars : 18\n"
     ]
    },
    {
     "data": {
      "text/plain": [
       "'Total fee : 7.6'"
      ]
     },
     "execution_count": 10,
     "metadata": {},
     "output_type": "execute_result"
    }
   ],
   "source": [
    "calc_fee(arr, (0,0), (1,3) ,(4,2))"
   ]
  }
 ],
 "metadata": {
  "kernelspec": {
   "display_name": "Python 3",
   "language": "python",
   "name": "python3"
  },
  "language_info": {
   "codemirror_mode": {
    "name": "ipython",
    "version": 3
   },
   "file_extension": ".py",
   "mimetype": "text/x-python",
   "name": "python",
   "nbconvert_exporter": "python",
   "pygments_lexer": "ipython3",
   "version": "3.9.1"
  }
 },
 "nbformat": 4,
 "nbformat_minor": 5
}
